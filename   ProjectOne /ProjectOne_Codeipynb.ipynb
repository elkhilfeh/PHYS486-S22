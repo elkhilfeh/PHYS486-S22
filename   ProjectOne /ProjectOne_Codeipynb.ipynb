{
  "nbformat": 4,
  "nbformat_minor": 0,
  "metadata": {
    "colab": {
      "name": "ProjectOne_Codeipynb",
      "provenance": [],
      "authorship_tag": "ABX9TyOUIlD4UpxQAdr2FA68VchN",
      "include_colab_link": true
    },
    "kernelspec": {
      "name": "python3",
      "display_name": "Python 3"
    },
    "language_info": {
      "name": "python"
    }
  },
  "cells": [
    {
      "cell_type": "markdown",
      "metadata": {
        "id": "view-in-github",
        "colab_type": "text"
      },
      "source": [
        "<a href=\"https://colab.research.google.com/github/elkhilfeh/PHYS486-S22/blob/main/%20%20ProjectOne%20/ProjectOne_Codeipynb.ipynb\" target=\"_parent\"><img src=\"https://colab.research.google.com/assets/colab-badge.svg\" alt=\"Open In Colab\"/></a>"
      ]
    },
    {
      "cell_type": "code",
      "execution_count": null,
      "metadata": {
        "id": "qH9E_xPs8SBy"
      },
      "outputs": [],
      "source": [
        "import numpy as np\n",
        "import pandas as pd\n",
        "import matplotlib.pyplot as plt\n",
        "import math"
      ]
    },
    {
      "cell_type": "markdown",
      "source": [
        "**Calculate_Distances(x_a, x_b, x_c, y_a, y_b, y_c):**\n",
        "1. Calculate the distance between A and B:\n",
        "\n",
        "Distance_AB = sqrt((x_a - x_b)<sup>2</sup> + (y_a - y_b)<sup>2</sup>)\n",
        "\n",
        "2. Calculate the distance between A and C:\n",
        "\n",
        "  Distance_AC = sqrt((x_a - x_c)<sup>2</sup> + (y_a - y_c)<sup>2</sup>)\n",
        "\n",
        "3. Outputs Distance_AB and Distance_AC (distances from object A to objects B and C)\n",
        "\n",
        "\n",
        "**Calculate_Acceleration(G, M_A, M_B, M_C, Distance_AB, Distance_AC, Pos_A, Pos_B, Pos_C):**\n",
        "1. Perform acceleration calculation: \n",
        "\n",
        "  Accel = (G\\*M_B\\*(Pos_A-Pos_B)/Distance_AB<sup>3</sup>)+(G\\*M_C\\*(Pos_A-Pos_C)/Distance_AC<sup>3</sup>)\n",
        "\n",
        "2. Outputs Acceleration\n",
        "\n",
        "\n",
        "**Calculate_New_Velocities(M_Sun, M_Earth, M_Jup, Positions_x, Positions_y, Velocities_x, Velocities_y, Time_Step):**\n",
        "1. Generate a 2-dimensional array with 3 elements, each with 2 elements: New_Velocities[[]]\n",
        "2. Call distance function three times, once for each of the Sun, Earth, and Jupiter. Outputs the distances between each object in an array.\n",
        "3. Call Calculate_Acceleration function six times to calculate the acceleration components of the x and y velocities of the Sun, Earth, and Jupiter\n",
        "4. Multiply by the Time_Step\n",
        "5. Substract those products from the initial velocities\n",
        "6. Populate New_Velocities with those new velocities\n",
        "7. Output new velocities in two arrays, each with 3 elements: New_Velocities_x and New_Velocities_y.\n",
        "\n",
        "\n",
        "\n",
        "**Calculate_New_Positions(Pos_x, Pos_y, Vel_x, Vel_y, Time_Step):**\n",
        "1. Calculate the new x position using the initial positiion, initial velocity, and the time step:\n",
        "\n",
        "New_Pos_x = Pos_x + (Vel_x\\*Time_Step)\n",
        "\n",
        "2. Repeat for the y position\n",
        "\n",
        "New_Pos_y = Pos_y + (Vel_y\\*Time_Step)\n",
        "\n",
        "3. Return New_Pos_x and New_Pos_y\n",
        "\n",
        "\n",
        "\n",
        "**Calculate_Energies(M_Sun, M_Earth, M_Jup, V_Sun_x, V_Sun_y, V_Earth_x, V_Earth_y, V_Jup_x, V_Jup_y, r_Sun_Earth, r_Sun_Jup, r_Earth_Jup):**\n",
        "\n",
        "1. Calculate the KE of the system at a given time (step?):\n",
        "\n",
        "KE_tot = (1/2)\\*M_Sun\\*((V_Sun_x)^2+(V_Sun_y)^2) + (1/2)\\*M_Earth\\*((V_Earth_x)^2+(V_Earth_y)^2) + (1/2)\\*M_Jup\\*((V_Jup_x)^2+(V_Jup_y)^2)\n",
        "\n",
        "2. Caluculate the PE of the system at a given time:\n",
        "\n",
        "PE_tot = (G\\*M_Sun\\* M_Earth/r_Sun_Earth) + (G\\*M_Sun\\* M_Jup/r_Sun_Jup) + (G\\*M_Earth\\* M_Jup/r_Earth_Jup)\n",
        "\n",
        "3. Calculate the total energy of the system at a give time:\n",
        "\n",
        "Energy_tot = KE + PE\n",
        "\n",
        "4. Return energies into an array or arrays to store up data points for Energy v. Time graph\n",
        "\n",
        "**Project_Orbits(M_Sun, M_Earth, M_Jup, G, Initial_Positions_x, Initial_Positions_y, Initial_Velocities_x, Initial_Velocities_y, Total_Time, Number_Steps)**:\n",
        "1. Create and fill the array of timesteps by calculating the length of each timestep: Time_Step = Total_Time/Number_Steps\n",
        "2. create arrays to store the values of x and y positions and velocities, and energies for all three objects at each timestep\n",
        "3. initialize the first element of each array with Initial positions, velocities, and energies of all three objects\n",
        "4. loop over all timesteps, using Calulate_New_Velocities, Calculate_New_Positions, and Calculate_Energies to fill the i+1th elements of the arrays\n",
        "5. Return the resulting arrays of times, positions, velocities, and energies \n",
        "\n",
        "\n",
        "**Plot_Orbits(Times, Positions_x, Positions_y, Velocities_x, Velocities_y):**\n",
        "1. Plots the positions and velocities of each object as a function of time in two different graphs\n",
        "\n",
        "**Plot_Energy():**\n",
        "1. Plots the total energies of each object as a function of time to check energy conservation\n"
      ],
      "metadata": {
        "id": "jaaJm2Mu8_qy"
      }
    },
    {
      "cell_type": "code",
      "source": [
        "def Calculate_Distances([x_a, x_b, x_c], [y_a, y_b, y_c]):\n",
        "  \n",
        "  Distances = []\n",
        "  Distance_AB = np.sqrt((x_a - x_b)**2 + (y_a - y_b)**2)\n",
        "  Distances.append(Distance_AB)\n",
        "\n",
        "  Distance_AC = np.sqrt((x_a - x_c)**2 + (y_a - y_c)**2)\n",
        "  Distances.append(Distance_AC)\n",
        "\n",
        "  Distance_BC = np.sqrt((x_b - x_c)**2 + (y_b - y_c)**2)\n",
        "  Distances.append(Distance_BC)\n",
        "\n",
        "\n",
        "\n",
        "  return Distances"
      ],
      "metadata": {
        "id": "Bby7DV8v9F5x"
      },
      "execution_count": null,
      "outputs": []
    },
    {
      "cell_type": "code",
      "source": [
        "def Calculate_Acceleration(G, M_A, M_B, M_C, [Distance_AB, Distance_AC, Distance_BC], [Pos_A, Pos_B, Pos_C]):\n",
        "\n",
        "  Accels = []\n",
        "\n",
        "  Accel_A = (G*M_B*(Pos_A-Pos_B)/Distance_AB**3)+(G*M_C*(Pos_A-Pos_C)/Distance_AC**3)\n",
        "  Accels.append(Accel_A)\n",
        "\n",
        "  Accel_B = (G*M_A*(Pos_B-Pos_A)/Distance_AB**3)+(G*M_C*(Pos_B-Pos_C)/Distance_BC**3)\n",
        "  Accels.append(Accel_B)\n",
        "\n",
        "  Accel_C = (G*M_A*(Pos_C-Pos_A)/Distance_AC**3)+(G*M_B*(Pos_C-Pos_B)/Distance_BC**3)\n",
        "  Accels.append(Accel_C)\n",
        "  \n",
        "  return Accels"
      ],
      "metadata": {
        "id": "2Xn812RYBx_H"
      },
      "execution_count": null,
      "outputs": []
    },
    {
      "cell_type": "code",
      "source": [
        "def Calculate_New_Velocities(G, M_Sun, M_Earth, M_Jup, Positions_x, Positions_y, Velocities_x, Velocities_y, Time_Step):\n",
        "\n",
        "  New_Velocities = [[]]\n",
        "\n",
        "  Distances = Calculate_Distances(Positions_x,Positions_y)\n",
        "\n",
        "  Accels_XY = [[]]\n",
        "\n",
        "  Accels_XY.append(Calculate_Acceleration(G, M_Sun, M_Earth, M_Jup, Distances, Positions_x))\n",
        "  Accels_XY.append(Calculate_Acceleration(G, M_Sun, M_Earth, M_Jup, Distances, Positions_y))\n",
        "\n",
        "  Delta_V = Accels_XY*Time_Step\n",
        "\n",
        "  New_Velocities.append(Velocities_x - Delta_V[0])\n",
        "  New_Velocities.append(Velocities_y - Delta_V[1])\n",
        "\n",
        "  return New_Velocities\n",
        "  \n",
        "\n",
        "\n",
        "\n",
        "\n",
        "\n",
        "\n"
      ],
      "metadata": {
        "id": "AoDphOCwB_du"
      },
      "execution_count": null,
      "outputs": []
    },
    {
      "cell_type": "markdown",
      "source": [
        "**NOTE:**\n",
        "\n",
        "We need to calculate the initial center of mass of the system by deciding the initial configuration such that the initial net momentum of the center of mass is 0. This means we need to place the planets on a line along the x-axis, with the Earth 1 AU away from the center of mass, and Jupiter ~5ish AU (look this up). Also look up initial velocities of Earth and Jupiter, and find the velocity of the sun by setting the net momentum = 0."
      ],
      "metadata": {
        "id": "krBztMx0_75w"
      }
    }
  ]
}