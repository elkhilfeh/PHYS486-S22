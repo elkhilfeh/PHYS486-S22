{
  "nbformat": 4,
  "nbformat_minor": 0,
  "metadata": {
    "colab": {
      "name": "ProjectOne_Codeipynb",
      "provenance": [],
      "authorship_tag": "ABX9TyMVXzWVKzLa+pMRwUwLZuwE",
      "include_colab_link": true
    },
    "kernelspec": {
      "name": "python3",
      "display_name": "Python 3"
    },
    "language_info": {
      "name": "python"
    }
  },
  "cells": [
    {
      "cell_type": "markdown",
      "metadata": {
        "id": "view-in-github",
        "colab_type": "text"
      },
      "source": [
        "<a href=\"https://colab.research.google.com/github/elkhilfeh/PHYS486-S22/blob/main/ProjectOne/ProjectOne_Code.ipynb\" target=\"_parent\"><img src=\"https://colab.research.google.com/assets/colab-badge.svg\" alt=\"Open In Colab\"/></a>"
      ]
    },
    {
      "cell_type": "code",
      "execution_count": 26,
      "metadata": {
        "id": "qH9E_xPs8SBy"
      },
      "outputs": [],
      "source": [
        "import numpy as np\n",
        "import pandas as pd\n",
        "import matplotlib.pyplot as plt\n",
        "import math"
      ]
    },
    {
      "cell_type": "markdown",
      "source": [
        "**Calculate_Distances(x_a, x_b, x_c, y_a, y_b, y_c):**\n",
        "1. Calculate the distance between A and B:\n",
        "\n",
        "Distance_AB = sqrt((x_a - x_b)<sup>2</sup> + (y_a - y_b)<sup>2</sup>)\n",
        "\n",
        "2. Calculate the distance between A and C:\n",
        "\n",
        "  Distance_AC = sqrt((x_a - x_c)<sup>2</sup> + (y_a - y_c)<sup>2</sup>)\n",
        "\n",
        "3. Outputs Distance_AB and Distance_AC (distances from object A to objects B and C)\n",
        "\n",
        "\n",
        "**Calculate_Acceleration(G, M_A, M_B, M_C, Distance_AB, Distance_AC, Pos_A, Pos_B, Pos_C):**\n",
        "1. Perform acceleration calculation: \n",
        "\n",
        "  Accel = (G\\*M_B\\*(Pos_A-Pos_B)/Distance_AB<sup>3</sup>)+(G\\*M_C\\*(Pos_A-Pos_C)/Distance_AC<sup>3</sup>)\n",
        "\n",
        "2. Outputs Acceleration\n",
        "\n",
        "\n",
        "**Calculate_New_Velocities(M_Sun, M_Earth, M_Jup, Positions_x, Positions_y, Velocities_x, Velocities_y, Time_Step):**\n",
        "1. Generate a 2-dimensional array with 3 elements, each with 2 elements: New_Velocities[[]]\n",
        "2. Call distance function three times, once for each of the Sun, Earth, and Jupiter. Outputs the distances between each object in an array.\n",
        "3. Call Calculate_Acceleration function six times to calculate the acceleration components of the x and y velocities of the Sun, Earth, and Jupiter\n",
        "4. Multiply by the Time_Step\n",
        "5. Substract those products from the initial velocities\n",
        "6. Populate New_Velocities with those new velocities\n",
        "7. Output new velocities in two arrays, each with 3 elements: New_Velocities_x and New_Velocities_y.\n",
        "\n",
        "\n",
        "\n",
        "**Calculate_New_Positions(Pos_x, Pos_y, Vel_x, Vel_y, Time_Step):**\n",
        "1. Calculate the new x position using the initial positiion, initial velocity, and the time step:\n",
        "\n",
        "New_Pos_x = Pos_x + (Vel_x\\*Time_Step)\n",
        "\n",
        "2. Repeat for the y position\n",
        "\n",
        "New_Pos_y = Pos_y + (Vel_y\\*Time_Step)\n",
        "\n",
        "3. Return New_Pos_x and New_Pos_y\n",
        "\n",
        "\n",
        "\n",
        "**Calculate_Energies(M_Sun, M_Earth, M_Jup, V_Sun_x, V_Sun_y, V_Earth_x, V_Earth_y, V_Jup_x, V_Jup_y, r_Sun_Earth, r_Sun_Jup, r_Earth_Jup):**\n",
        "\n",
        "1. Calculate the KE of the system at a given time (step?):\n",
        "\n",
        "KE_tot = (1/2)\\*M_Sun\\*((V_Sun_x)^2+(V_Sun_y)^2) + (1/2)\\*M_Earth\\*((V_Earth_x)^2+(V_Earth_y)^2) + (1/2)\\*M_Jup\\*((V_Jup_x)^2+(V_Jup_y)^2)\n",
        "\n",
        "2. Caluculate the PE of the system at a given time:\n",
        "\n",
        "PE_tot = (G\\*M_Sun\\* M_Earth/r_Sun_Earth) + (G\\*M_Sun\\* M_Jup/r_Sun_Jup) + (G\\*M_Earth\\* M_Jup/r_Earth_Jup)\n",
        "\n",
        "3. Calculate the total energy of the system at a give time:\n",
        "\n",
        "Energy_tot = KE + PE\n",
        "\n",
        "4. Return energies into an array or arrays to store up data points for Energy v. Time graph\n",
        "\n",
        "**Project_Orbits(M_Sun, M_Earth, M_Jup, G, Initial_Positions_x, Initial_Positions_y, Initial_Velocities_x, Initial_Velocities_y, Total_Time, Number_Steps)**:\n",
        "1. Create and fill the array of timesteps by calculating the length of each timestep: Time_Step = Total_Time/Number_Steps\n",
        "2. create arrays to store the values of x and y positions and velocities, and energies for all three objects at each timestep\n",
        "3. initialize the first element of each array with Initial positions, velocities, and energies of all three objects\n",
        "4. loop over all timesteps, using Calulate_New_Velocities, Calculate_New_Positions, and Calculate_Energies to fill the i+1th elements of the arrays\n",
        "5. Return the resulting arrays of times, positions, velocities, and energies \n",
        "\n",
        "\n",
        "**Plot_Orbits(Times, Positions_x, Positions_y, Velocities_x, Velocities_y):**\n",
        "1. Plots the positions and velocities of each object as a function of time in two different graphs\n",
        "\n",
        "**Plot_Energy():**\n",
        "1. Plots the total energies of each object as a function of time to check energy conservation\n"
      ],
      "metadata": {
        "id": "jaaJm2Mu8_qy"
      }
    },
    {
      "cell_type": "code",
      "source": [
        "def Calculate_Distances(Pos_x, Pos_y):\n",
        "  \n",
        "  Distance_AB = np.sqrt((Pos_x[0] - Pos_x[1])**2 + (Pos_y[0] - Pos_y[1])**2)\n",
        "  #Distances.append(Distance_AB)\n",
        "\n",
        "  Distance_AC = np.sqrt((Pos_x[0] - Pos_x[2])**2 + (Pos_y[0] - Pos_y[2])**2)\n",
        "  #Distances.append(Distance_AC)\n",
        "\n",
        "  Distance_BC = np.sqrt((Pos_x[1] - Pos_x[2])**2 + (Pos_y[1] - Pos_y[2])**2)\n",
        "  #Distances.append(Distance_BC)\n",
        "\n",
        "  return Distance_AB, Distance_AC, Distance_BC"
      ],
      "metadata": {
        "id": "Bby7DV8v9F5x"
      },
      "execution_count": 27,
      "outputs": []
    },
    {
      "cell_type": "code",
      "source": [
        "def Calculate_Acceleration(G, M_A, M_B, M_C, Dist, Pos):\n",
        "\n",
        "  Accels = []\n",
        "\n",
        "  Accel_A = (G*M_B*(Pos[0]-Pos[1])/Dist[0]**3)+(G*M_C*(Pos[0]-Pos[2])/Dist[1]**3)\n",
        "  Accels.append(Accel_A)\n",
        "\n",
        "  Accel_B = (G*M_A*(Pos[1]-Pos[0])/Dist[0]**3)+(G*M_C*(Pos[1]-Pos[0])/Dist[2]**3)\n",
        "  Accels.append(Accel_B)\n",
        "\n",
        "  Accel_C = (G*M_A*(Pos[2]-Pos[0])/Dist[1]**3)+(G*M_B*(Pos[2]-Pos[1])/Dist[2]**3)\n",
        "  Accels.append(Accel_C)\n",
        "  \n",
        "  return Accels"
      ],
      "metadata": {
        "id": "2Xn812RYBx_H"
      },
      "execution_count": 28,
      "outputs": []
    },
    {
      "cell_type": "code",
      "source": [
        "def Calculate_New_Velocities(G, M_Sun, M_Earth, M_Jup, SEJ_Positions_x, SEJ_Positions_y, SEJ_Distances, SEJ_Velocities_x, SEJ_Velocities_y, Time_Step):\n",
        "\n",
        "  SEJ_New_Velocities_x = []\n",
        "  SEJ_New_Velocities_y = []\n",
        "\n",
        "  Accels_XY = []\n",
        "\n",
        "  Accels_XY.append(Calculate_Acceleration(G, M_Sun, M_Earth, M_Jup, SEJ_Distances, SEJ_Positions_x))\n",
        "  Accels_XY.append(Calculate_Acceleration(G, M_Sun, M_Earth, M_Jup, SEJ_Distances, SEJ_Positions_y))\n",
        "\n",
        "  Delta_V = Accels_XY*Time_Step\n",
        "\n",
        "  SEJ_New_Velocities_x.append(SEJ_Velocities_x - Delta_V[0])\n",
        "  SEJ_New_Velocities_y.append(SEJ_Velocities_y - Delta_V[1])\n",
        "\n",
        "  return SEJ_New_Velocities_x, SEJ_New_Velocities_y"
      ],
      "metadata": {
        "id": "AoDphOCwB_du"
      },
      "execution_count": 29,
      "outputs": []
    },
    {
      "cell_type": "code",
      "source": [
        "def Calculate_New_Positions(SEJ_Pos_x, SEJ_Pos_y, SEJ_Vel_x, SEJ_Vel_y, Time_Step):\n",
        "\n",
        "  SEJ_New_Pos_x = SEJ_Pos_x +(SEJ_Vel_x*Time_Step)\n",
        "  SEJ_New_Pos_y = SEJ_Pos_y +(SEJ_Vel_x*Time_Step)\n",
        "\n",
        "  return (SEJ_New_Pos_x, SEJ_New_Pos_y)"
      ],
      "metadata": {
        "id": "pVP75I1zV0do"
      },
      "execution_count": 30,
      "outputs": []
    },
    {
      "cell_type": "code",
      "source": [
        "def Calculate_Energies(M_Sun, M_Earth, M_Jup, SEJ_Vel_x, SEJ_Vel_y, SEJ_Distances):\n",
        "\n",
        "  KE_Tot = (1/2)*M_Sun*((SEJ_Vel_x[0])**2+(SEJ_Vel_y[0])**2) + (1/2)*M_Earth*((SEJ_Vel_x[1])**2+(SEJ_Vel_y[1])**2) + (1/2)*M_Jup*((SEJ_Vel_x[2])**2+(SEJ_Vel_y[2])**2)\n",
        "\n",
        "  PE_Tot =  (G*M_Sun* M_Earth/SEJ_Distances[0]) + (G*M_Sun* M_Jup/SEJ_Distances[1]) + (G*M_Earth* M_Jup/SEJ_Distances[2])\n",
        "\n",
        "  Energy_Tot = KE_Tot + PE_Tot\n",
        "\n",
        "  return Energy_Tot, KE_Tot, PE_Tot"
      ],
      "metadata": {
        "id": "X-WO7CrkWrk3"
      },
      "execution_count": 31,
      "outputs": []
    },
    {
      "cell_type": "code",
      "source": [
        "def Calculate_Initial_Positions(M_Sun, M_Earth, M_Jup):\n",
        "  ### CREDIT TO ZOE AND SAVANNAH FOR LETTING ELLIOTT AND I USE THEIR CODE AS INSPIRATION FOR THIS FUNCTION!! ###\n",
        "\n",
        "  Initial_Position_Sun = 0\n",
        "  Initial_Position_Earth = 1.496e+8 #km from Sun\n",
        "  Initial_Position_Jup = 7.44e+8 #km from Sun\n",
        "\n",
        "  Center_Mass = (M_Sun*Initial_Position_Sun + M_Earth*Initial_Position_Earth + M_Jup*Initial_Position_Jup)/(M_Sun + M_Earth + M_Jup)\n",
        "\n",
        "  True_Position_Sun = Initial_Position_Sun - Center_Mass\n",
        "  True_Position_Earth = Initial_Position_Earth - Center_Mass\n",
        "  True_Position_Jup = Initial_Position_Jup - Center_Mass\n",
        "  \n",
        "  return [True_Position_Sun, True_Position_Earth, True_Position_Jup]"
      ],
      "metadata": {
        "id": "otMBUq7Wf8C2"
      },
      "execution_count": 32,
      "outputs": []
    },
    {
      "cell_type": "code",
      "source": [
        "def Calculate_Initial_Velocities(M_Sun, M_Earth, M_Jup):\n",
        "  ### CREDIT TO ZOE AND SAVANNAH FOR LETTING ELLIOTT AND I USE THEIR CODE AS INSPIRATION FOR THIS FUNCTION!! ###\n",
        "\n",
        "  # Only y-velocities because the objects start in a line on the x-axis\n",
        "  Initial_Velocity_Earth_y = 30 #km/s NEEDS TO BE IN PER STEP SIZE UNITS (years?)\n",
        "  Initial_Velocity_Jup_y = 13.07 #km/s\n",
        "\n",
        "  Initial_Velocity_Sun_y = -(Initial_Velocity_Earth_y*M_Earth + Initial_Velocity_Jup_y*M_Jup)/M_Sun\n",
        "\n",
        "  return [Initial_Velocity_Earth_y, Initial_Velocity_Jup_y, Initial_Velocity_Sun_y]"
      ],
      "metadata": {
        "id": "ydZkPrargBA_"
      },
      "execution_count": 33,
      "outputs": []
    },
    {
      "cell_type": "code",
      "source": [
        "def Initial_Conditions(M_Jup):\n",
        "  ### CREDIT TO ZOE AND SAVANNAH FOR LETTING ELLIOTT AND I USE THEIR CODE AS INSPIRATION FOR THIS FUNCTION!! ###\n",
        "  \n",
        "  M_Sun = 1.989e+30 #kg\n",
        "  M_Earth = 5.972e+24 #kg\n",
        "\n",
        "  Initial_Positions = Calculate_Initial_Positions(M_Sun, M_Earth, M_Jup)\n",
        "\n",
        "  Initial_Velocities = Calculate_Initial_Velocities(M_Sun, M_Earth, M_Jup)\n",
        "\n",
        "  SEJ_Positions_x, SEJ_Positions_y = [], [[0],[0],[0]]\n",
        "  SEJ_Velocities_x, SEJ_Velocities_y= [[0],[0],[0]], []\n",
        "  SEJ_Distances = []\n",
        "  Energies = []\n",
        "\n",
        "  #Initializing Position, Velocity, Distance, and Energy arrays with initial conditions\n",
        "\n",
        "  # Only have x initial positions and y initial velocities due to the way we've set up the initial orbits\n",
        "  Initial_Positions_x = Calculate_Initial_Positions(M_Sun, M_Earth, M_Jup)\n",
        "  Initial_Velocities_y = Calculate_Initial_Velocities(M_Sun, M_Earth, M_Jup)\n",
        "\n",
        "\n",
        "  SEJ_Positions_x.append([[Initial_Positions_x[0]],[Initial_Positions_x[1]],[Initial_Positions_x[2]]])\n",
        "\n",
        "\n",
        "  SE_Dist, SJ_Dist, EJ_Dist = Calculate_Distances([Initial_Positions_x[0], Initial_Positions_x[1], Initial_Positions_x[2]], [0, 0, 0])\n",
        "  SEJ_Distances.append([SE_Dist, SJ_Dist, EJ_Dist])\n",
        "\n",
        "\n",
        "  SEJ_Velocities_y.append([[Initial_Velocities_y[0]],[Initial_Velocities_y[1]],[Initial_Velocities_y[2]]])\n",
        "\n",
        "\n",
        "  Initial_Total_Energy, Initial_KE, Initial_PE = Calculate_Energies(M_Sun, M_Earth, M_Jup, SEJ_Velocities_x[0], SEJ_Velocities_y[0], SEJ_Distances[0])\n",
        "  Energies.append([[Initial_Total_Energy],[Initial_KE],[Initial_PE]])\n",
        "\n",
        "\n",
        "  return M_Sun, M_Earth, M_Jup, SEJ_Positions_x, SEJ_Positions_y, SEJ_Velocities_x, SEJ_Velocities_y, SEJ_Distances, Energies"
      ],
      "metadata": {
        "id": "LkmmN4Fd4F-L"
      },
      "execution_count": 34,
      "outputs": []
    },
    {
      "cell_type": "code",
      "source": [
        "def Project_Orbits(M_Jup, Total_Time, Step_Size):\n",
        "\n",
        "  G = 6.6743e-11 # m^3/kgs^2 NEED TO CHANGE TO UNITS OF STEP SIZE (years?)\n",
        "\n",
        "  # Calculating the total number of steps, rounded to the nearest integer\n",
        "  Number_Steps = np.ceil(Total_Time/Step_Size)\n",
        "\n",
        "\n",
        "  Time = []\n",
        "  for i in range(int(Number_Steps)+1):\n",
        "    Time.append(Step_Size*i)\n",
        "\n",
        "\n",
        "  M_Sun, M_Earth, M_Jup, SEJ_Positions_x, SEJ_Positions_y, SEJ_Velocities_x, SEJ_Velocities_y, SEJ_Distances, Energies = Initial_Conditions(M_Jup)\n",
        "\n",
        "  for i in range(Number_Steps):\n",
        "\n",
        "    New_Vel_x, New_Vel_y = Calculate_New_Velocities(G, M_Sun, M_Earth, M_Jup, SEJ_Positions_x[i], SEJ_Positions_y[i], SEJ_Distances[i], SEJ_Velocities_x[i], SEJ_Velocities_y[i], Step_Size)\n",
        "    SEJ_Velocities_x.append(New_Vel_x)\n",
        "    SEJ_Velocities_y.append(New_Vel_y)\n",
        "\n",
        "    New_Pos_x, New_Pos_y = Calculate_New_Positions(SEJ_Positions_x[i], SEJ_Positions_y[i], SEJ_Velocities_x[i], SEJ_Velocities_y[i], Step_Size)\n",
        "    SEJ_Positions_x.append(New_Pos_x)\n",
        "    SEJ_Positions_y.append(New_Pos_y)\n",
        "\n",
        "    New_Total_Energy, New_KE, New_PE = Calculate_Energies(M_Sun, M_Earth, M_Jup, SEJ_Velocities_x[i], SEJ_Velocities_y[i], SEJ_Distances[i])\n",
        "    Energies[0].append(New_Total_Energy)\n",
        "    Energies[1].append(New_KE)\n",
        "    Energies[2].append(New_PE)\n",
        "\n",
        "  return SEJ_Positions_x, SEJ_Positions_y, Initial_Velocities_x, Initial_Velocities_y, SEJ_Distances, Energies, Time"
      ],
      "metadata": {
        "id": "m-Ko2RH8YzNd"
      },
      "execution_count": 35,
      "outputs": []
    },
    {
      "cell_type": "code",
      "source": [
        "#def Plot_Orbits(SEJ_Positions_x, SEJ_Positions_y, Initial_Velocities_x, Initial_Velocities_y, Time):"
      ],
      "metadata": {
        "id": "IxsQkvTLGvoz"
      },
      "execution_count": 36,
      "outputs": []
    },
    {
      "cell_type": "code",
      "source": [
        "#def Plot_Energy(Energies, Time):"
      ],
      "metadata": {
        "id": "YMuKGpYvG5gL"
      },
      "execution_count": 37,
      "outputs": []
    },
    {
      "cell_type": "code",
      "source": [
        "SEJ_Positions_x, SEJ_Positions_y, Initial_Velocities_x, Initial_Velocities_y, SEJ_Distances, Energies, Time = Project_Orbits(1.9e+27, 10000, 1)\n",
        "\n",
        "print(Time)"
      ],
      "metadata": {
        "id": "RwwzjNJsJQ8x",
        "outputId": "f1c4977d-a367-4136-f3f1-178bbde3507f",
        "colab": {
          "base_uri": "https://localhost:8080/",
          "height": 345
        }
      },
      "execution_count": 38,
      "outputs": [
        {
          "output_type": "error",
          "ename": "TypeError",
          "evalue": "ignored",
          "traceback": [
            "\u001b[0;31m---------------------------------------------------------------------------\u001b[0m",
            "\u001b[0;31mTypeError\u001b[0m                                 Traceback (most recent call last)",
            "\u001b[0;32m<ipython-input-38-9cc1ef8fc8d8>\u001b[0m in \u001b[0;36m<module>\u001b[0;34m()\u001b[0m\n\u001b[0;32m----> 1\u001b[0;31m \u001b[0mSEJ_Positions_x\u001b[0m\u001b[0;34m,\u001b[0m \u001b[0mSEJ_Positions_y\u001b[0m\u001b[0;34m,\u001b[0m \u001b[0mInitial_Velocities_x\u001b[0m\u001b[0;34m,\u001b[0m \u001b[0mInitial_Velocities_y\u001b[0m\u001b[0;34m,\u001b[0m \u001b[0mSEJ_Distances\u001b[0m\u001b[0;34m,\u001b[0m \u001b[0mEnergies\u001b[0m\u001b[0;34m,\u001b[0m \u001b[0mTime\u001b[0m \u001b[0;34m=\u001b[0m \u001b[0mProject_Orbits\u001b[0m\u001b[0;34m(\u001b[0m\u001b[0;36m1.9e+27\u001b[0m\u001b[0;34m,\u001b[0m \u001b[0;36m10000\u001b[0m\u001b[0;34m,\u001b[0m \u001b[0;36m1\u001b[0m\u001b[0;34m)\u001b[0m\u001b[0;34m\u001b[0m\u001b[0;34m\u001b[0m\u001b[0m\n\u001b[0m\u001b[1;32m      2\u001b[0m \u001b[0;34m\u001b[0m\u001b[0m\n\u001b[1;32m      3\u001b[0m \u001b[0mprint\u001b[0m\u001b[0;34m(\u001b[0m\u001b[0mTime\u001b[0m\u001b[0;34m)\u001b[0m\u001b[0;34m\u001b[0m\u001b[0;34m\u001b[0m\u001b[0m\n",
            "\u001b[0;32m<ipython-input-35-bff36874a878>\u001b[0m in \u001b[0;36mProject_Orbits\u001b[0;34m(M_Jup, Total_Time, Step_Size)\u001b[0m\n\u001b[1;32m     12\u001b[0m \u001b[0;34m\u001b[0m\u001b[0m\n\u001b[1;32m     13\u001b[0m \u001b[0;34m\u001b[0m\u001b[0m\n\u001b[0;32m---> 14\u001b[0;31m   \u001b[0mM_Sun\u001b[0m\u001b[0;34m,\u001b[0m \u001b[0mM_Earth\u001b[0m\u001b[0;34m,\u001b[0m \u001b[0mM_Jup\u001b[0m\u001b[0;34m,\u001b[0m \u001b[0mSEJ_Positions_x\u001b[0m\u001b[0;34m,\u001b[0m \u001b[0mSEJ_Positions_y\u001b[0m\u001b[0;34m,\u001b[0m \u001b[0mSEJ_Velocities_x\u001b[0m\u001b[0;34m,\u001b[0m \u001b[0mSEJ_Velocities_y\u001b[0m\u001b[0;34m,\u001b[0m \u001b[0mSEJ_Distances\u001b[0m\u001b[0;34m,\u001b[0m \u001b[0mEnergies\u001b[0m \u001b[0;34m=\u001b[0m \u001b[0mInitial_Conditions\u001b[0m\u001b[0;34m(\u001b[0m\u001b[0mM_Jup\u001b[0m\u001b[0;34m)\u001b[0m\u001b[0;34m\u001b[0m\u001b[0;34m\u001b[0m\u001b[0m\n\u001b[0m\u001b[1;32m     15\u001b[0m \u001b[0;34m\u001b[0m\u001b[0m\n\u001b[1;32m     16\u001b[0m   \u001b[0;32mfor\u001b[0m \u001b[0mi\u001b[0m \u001b[0;32min\u001b[0m \u001b[0mrange\u001b[0m\u001b[0;34m(\u001b[0m\u001b[0mNumber_Steps\u001b[0m\u001b[0;34m)\u001b[0m\u001b[0;34m:\u001b[0m\u001b[0;34m\u001b[0m\u001b[0;34m\u001b[0m\u001b[0m\n",
            "\u001b[0;32m<ipython-input-34-732b02fe2be4>\u001b[0m in \u001b[0;36mInitial_Conditions\u001b[0;34m(M_Jup)\u001b[0m\n\u001b[1;32m     31\u001b[0m \u001b[0;34m\u001b[0m\u001b[0m\n\u001b[1;32m     32\u001b[0m \u001b[0;34m\u001b[0m\u001b[0m\n\u001b[0;32m---> 33\u001b[0;31m   \u001b[0mInitial_Total_Energy\u001b[0m\u001b[0;34m,\u001b[0m \u001b[0mInitial_KE\u001b[0m\u001b[0;34m,\u001b[0m \u001b[0mInitial_PE\u001b[0m \u001b[0;34m=\u001b[0m \u001b[0mCalculate_Energies\u001b[0m\u001b[0;34m(\u001b[0m\u001b[0mM_Sun\u001b[0m\u001b[0;34m,\u001b[0m \u001b[0mM_Earth\u001b[0m\u001b[0;34m,\u001b[0m \u001b[0mM_Jup\u001b[0m\u001b[0;34m,\u001b[0m \u001b[0mSEJ_Velocities_x\u001b[0m\u001b[0;34m[\u001b[0m\u001b[0;36m0\u001b[0m\u001b[0;34m]\u001b[0m\u001b[0;34m,\u001b[0m \u001b[0mSEJ_Velocities_y\u001b[0m\u001b[0;34m[\u001b[0m\u001b[0;36m0\u001b[0m\u001b[0;34m]\u001b[0m\u001b[0;34m,\u001b[0m \u001b[0mSEJ_Distances\u001b[0m\u001b[0;34m[\u001b[0m\u001b[0;36m0\u001b[0m\u001b[0;34m]\u001b[0m\u001b[0;34m)\u001b[0m\u001b[0;34m\u001b[0m\u001b[0;34m\u001b[0m\u001b[0m\n\u001b[0m\u001b[1;32m     34\u001b[0m   \u001b[0mEnergies\u001b[0m\u001b[0;34m.\u001b[0m\u001b[0mappend\u001b[0m\u001b[0;34m(\u001b[0m\u001b[0;34m[\u001b[0m\u001b[0;34m[\u001b[0m\u001b[0mInitial_Total_Energy\u001b[0m\u001b[0;34m]\u001b[0m\u001b[0;34m,\u001b[0m\u001b[0;34m[\u001b[0m\u001b[0mInitial_KE\u001b[0m\u001b[0;34m]\u001b[0m\u001b[0;34m,\u001b[0m\u001b[0;34m[\u001b[0m\u001b[0mInitial_PE\u001b[0m\u001b[0;34m]\u001b[0m\u001b[0;34m]\u001b[0m\u001b[0;34m)\u001b[0m\u001b[0;34m\u001b[0m\u001b[0;34m\u001b[0m\u001b[0m\n\u001b[1;32m     35\u001b[0m \u001b[0;34m\u001b[0m\u001b[0m\n",
            "\u001b[0;32m<ipython-input-31-f2a58910070e>\u001b[0m in \u001b[0;36mCalculate_Energies\u001b[0;34m(M_Sun, M_Earth, M_Jup, SEJ_Vel_x, SEJ_Vel_y, SEJ_Distances)\u001b[0m\n\u001b[1;32m      1\u001b[0m \u001b[0;32mdef\u001b[0m \u001b[0mCalculate_Energies\u001b[0m\u001b[0;34m(\u001b[0m\u001b[0mM_Sun\u001b[0m\u001b[0;34m,\u001b[0m \u001b[0mM_Earth\u001b[0m\u001b[0;34m,\u001b[0m \u001b[0mM_Jup\u001b[0m\u001b[0;34m,\u001b[0m \u001b[0mSEJ_Vel_x\u001b[0m\u001b[0;34m,\u001b[0m \u001b[0mSEJ_Vel_y\u001b[0m\u001b[0;34m,\u001b[0m \u001b[0mSEJ_Distances\u001b[0m\u001b[0;34m)\u001b[0m\u001b[0;34m:\u001b[0m\u001b[0;34m\u001b[0m\u001b[0;34m\u001b[0m\u001b[0m\n\u001b[1;32m      2\u001b[0m \u001b[0;34m\u001b[0m\u001b[0m\n\u001b[0;32m----> 3\u001b[0;31m   \u001b[0mKE_Tot\u001b[0m \u001b[0;34m=\u001b[0m \u001b[0;34m(\u001b[0m\u001b[0;36m1\u001b[0m\u001b[0;34m/\u001b[0m\u001b[0;36m2\u001b[0m\u001b[0;34m)\u001b[0m\u001b[0;34m*\u001b[0m\u001b[0mM_Sun\u001b[0m\u001b[0;34m*\u001b[0m\u001b[0;34m(\u001b[0m\u001b[0;34m(\u001b[0m\u001b[0mSEJ_Vel_x\u001b[0m\u001b[0;34m[\u001b[0m\u001b[0;36m0\u001b[0m\u001b[0;34m]\u001b[0m\u001b[0;34m)\u001b[0m\u001b[0;34m**\u001b[0m\u001b[0;36m2\u001b[0m\u001b[0;34m+\u001b[0m\u001b[0;34m(\u001b[0m\u001b[0mSEJ_Vel_y\u001b[0m\u001b[0;34m[\u001b[0m\u001b[0;36m0\u001b[0m\u001b[0;34m]\u001b[0m\u001b[0;34m)\u001b[0m\u001b[0;34m**\u001b[0m\u001b[0;36m2\u001b[0m\u001b[0;34m)\u001b[0m \u001b[0;34m+\u001b[0m \u001b[0;34m(\u001b[0m\u001b[0;36m1\u001b[0m\u001b[0;34m/\u001b[0m\u001b[0;36m2\u001b[0m\u001b[0;34m)\u001b[0m\u001b[0;34m*\u001b[0m\u001b[0mM_Earth\u001b[0m\u001b[0;34m*\u001b[0m\u001b[0;34m(\u001b[0m\u001b[0;34m(\u001b[0m\u001b[0mSEJ_Vel_x\u001b[0m\u001b[0;34m[\u001b[0m\u001b[0;36m1\u001b[0m\u001b[0;34m]\u001b[0m\u001b[0;34m)\u001b[0m\u001b[0;34m**\u001b[0m\u001b[0;36m2\u001b[0m\u001b[0;34m+\u001b[0m\u001b[0;34m(\u001b[0m\u001b[0mSEJ_Vel_y\u001b[0m\u001b[0;34m[\u001b[0m\u001b[0;36m1\u001b[0m\u001b[0;34m]\u001b[0m\u001b[0;34m)\u001b[0m\u001b[0;34m**\u001b[0m\u001b[0;36m2\u001b[0m\u001b[0;34m)\u001b[0m \u001b[0;34m+\u001b[0m \u001b[0;34m(\u001b[0m\u001b[0;36m1\u001b[0m\u001b[0;34m/\u001b[0m\u001b[0;36m2\u001b[0m\u001b[0;34m)\u001b[0m\u001b[0;34m*\u001b[0m\u001b[0mM_Jup\u001b[0m\u001b[0;34m*\u001b[0m\u001b[0;34m(\u001b[0m\u001b[0;34m(\u001b[0m\u001b[0mSEJ_Vel_x\u001b[0m\u001b[0;34m[\u001b[0m\u001b[0;36m2\u001b[0m\u001b[0;34m]\u001b[0m\u001b[0;34m)\u001b[0m\u001b[0;34m**\u001b[0m\u001b[0;36m2\u001b[0m\u001b[0;34m+\u001b[0m\u001b[0;34m(\u001b[0m\u001b[0mSEJ_Vel_y\u001b[0m\u001b[0;34m[\u001b[0m\u001b[0;36m2\u001b[0m\u001b[0;34m]\u001b[0m\u001b[0;34m)\u001b[0m\u001b[0;34m**\u001b[0m\u001b[0;36m2\u001b[0m\u001b[0;34m)\u001b[0m\u001b[0;34m\u001b[0m\u001b[0;34m\u001b[0m\u001b[0m\n\u001b[0m\u001b[1;32m      4\u001b[0m \u001b[0;34m\u001b[0m\u001b[0m\n\u001b[1;32m      5\u001b[0m   \u001b[0mPE_Tot\u001b[0m \u001b[0;34m=\u001b[0m  \u001b[0;34m(\u001b[0m\u001b[0mG\u001b[0m\u001b[0;34m*\u001b[0m\u001b[0mM_Sun\u001b[0m\u001b[0;34m*\u001b[0m \u001b[0mM_Earth\u001b[0m\u001b[0;34m/\u001b[0m\u001b[0mSEJ_Distances\u001b[0m\u001b[0;34m[\u001b[0m\u001b[0;36m0\u001b[0m\u001b[0;34m]\u001b[0m\u001b[0;34m)\u001b[0m \u001b[0;34m+\u001b[0m \u001b[0;34m(\u001b[0m\u001b[0mG\u001b[0m\u001b[0;34m*\u001b[0m\u001b[0mM_Sun\u001b[0m\u001b[0;34m*\u001b[0m \u001b[0mM_Jup\u001b[0m\u001b[0;34m/\u001b[0m\u001b[0mSEJ_Distances\u001b[0m\u001b[0;34m[\u001b[0m\u001b[0;36m1\u001b[0m\u001b[0;34m]\u001b[0m\u001b[0;34m)\u001b[0m \u001b[0;34m+\u001b[0m \u001b[0;34m(\u001b[0m\u001b[0mG\u001b[0m\u001b[0;34m*\u001b[0m\u001b[0mM_Earth\u001b[0m\u001b[0;34m*\u001b[0m \u001b[0mM_Jup\u001b[0m\u001b[0;34m/\u001b[0m\u001b[0mSEJ_Distances\u001b[0m\u001b[0;34m[\u001b[0m\u001b[0;36m2\u001b[0m\u001b[0;34m]\u001b[0m\u001b[0;34m)\u001b[0m\u001b[0;34m\u001b[0m\u001b[0;34m\u001b[0m\u001b[0m\n",
            "\u001b[0;31mTypeError\u001b[0m: unsupported operand type(s) for ** or pow(): 'list' and 'int'"
          ]
        }
      ]
    }
  ]
}