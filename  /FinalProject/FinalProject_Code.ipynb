{
  "nbformat": 4,
  "nbformat_minor": 0,
  "metadata": {
    "colab": {
      "name": "FinalProject_Code.ipynb",
      "provenance": [],
      "authorship_tag": "ABX9TyPN0EpM38KRKln7NFGMK/65",
      "include_colab_link": true
    },
    "kernelspec": {
      "name": "python3",
      "display_name": "Python 3"
    },
    "language_info": {
      "name": "python"
    }
  },
  "cells": [
    {
      "cell_type": "markdown",
      "metadata": {
        "id": "view-in-github",
        "colab_type": "text"
      },
      "source": [
        "<a href=\"https://colab.research.google.com/github/elkhilfeh/PHYS486-S22/blob/main/%20/FinalProject/FinalProject_Code.ipynb\" target=\"_parent\"><img src=\"https://colab.research.google.com/assets/colab-badge.svg\" alt=\"Open In Colab\"/></a>"
      ]
    },
    {
      "cell_type": "markdown",
      "source": [
        "**Goal: Replication of Figure 1 (Toomre and Toomre, 1972) - \"A Retrograde Passage\"**\n",
        "\n",
        "Parameters:\n",
        "* One large body with 5 rings made of massless particles\n",
        "* The rings contain 12,18, 24, 30, and 36 particles each from inner to outer ring\n",
        "* Rings are located at exactly 20, 30, 40, 50, and 60 percent of R_min\n",
        "* R_min = 25 kpc\n",
        "* Outermost particles have period of 544.2 million years\n",
        "* Second large body with no rings\n",
        "* Both bodies orbit in the same plane\n",
        "* Both bodies have mass of 10^11*M_Sun\n",
        "* Bodies pass each other in parabolic motion\n",
        "* Timesteps are in units of 10^8 years\n",
        "\n",
        "Numerical Method:\n",
        "* restricted three-body equations of motion from Pfleiderer (1963)\n",
        "* Fourth-order Runge-Kutta integrations\n",
        "* Integrations are performed separately for each particle"
      ],
      "metadata": {
        "id": "8qIidKqYVphN"
      }
    },
    {
      "cell_type": "code",
      "source": [
        "# Initial Parameters and such\n",
        "\n",
        "G =     ###need to figure out units since positions are in kiloparsecs\n",
        "\n",
        "#Body1 = Mass with rings\n",
        "Initial_V1_x =\n",
        "Initial_V1_y = \n",
        "\n",
        "Initial_Ring1_x = []   ##12 intital x-positions, 1 for each particle\n",
        "Initial_Ring2_x = []   #18\n",
        "Initial_Ring3_x = []   #24\n",
        "Initial_Ring4_x = []   #30\n",
        "Initial_Ring5_x = [] \n",
        "\n",
        "Initial_Ring1_y = []   #12 intital y-positions, 1 for each particle\n",
        "Initial_Ring2_y = []\n",
        "Initial_Ring3_y = []\n",
        "Initial_Ring4_y = []\n",
        "Initial_Ring5_y = []\n",
        "\n",
        "#Body2 = Mass without rings\n",
        "Initial_V2_x =\n",
        "Initial_V2_y = "
      ],
      "metadata": {
        "id": "l7oeZPdjjxSD"
      },
      "execution_count": null,
      "outputs": []
    },
    {
      "cell_type": "code",
      "source": [
        "### IDK how to set these up properly yet ###\n",
        "\n",
        "# Positions of Particles in rings:\n",
        "\n",
        "Ring1_x = []   #12 particles each with N# of timesteps positions?\n",
        "Ring2_x = []   #18\n",
        "Ring3_x = []   #24\n",
        "Ring4_x = []   #30\n",
        "Ring5_x = []   #36\n",
        "\n",
        "Ring1_y = []   #12\n",
        "Ring2_y = []\n",
        "Ring3_y = []\n",
        "Ring4_y = []\n",
        "Ring5_y = []\n",
        "\n",
        "#Position of Large Bodies\n",
        "\n",
        "Body1_x = [] #with rings\n",
        "Body2_x = [] #without rings\n",
        "\n",
        "Body1_y = []\n",
        "Body2_y = []\n"
      ],
      "metadata": {
        "id": "RgwK3_-UfHRJ"
      },
      "execution_count": null,
      "outputs": []
    },
    {
      "cell_type": "code",
      "source": [
        "#### I need to cross-reference this with Pfleiderer (1963)#####\n",
        "\n",
        "def Calculate_Distances(Pos_x, Pos_y):\n",
        "  \n",
        "  # Calculates the distance between the Body 1 and 2\n",
        "  Distance_AB = np.sqrt((Pos_x[0] - Pos_x[1])**2 + (Pos_y[0] - Pos_y[1])**2)\n",
        "  #Distances.append(Distance_AB)\n",
        "\n",
        "  # Calculates the distance between the Body 1 and Ring particle\n",
        "  Distance_AC = np.sqrt((Pos_x[0] - Pos_x[2])**2 + (Pos_y[0] - Pos_y[2])**2)\n",
        "  #Distances.append(Distance_AC)\n",
        "\n",
        "  # Calculates the distance between Body 2 and Ring Particle\n",
        "  Distance_BC = np.sqrt((Pos_x[1] - Pos_x[2])**2 + (Pos_y[1] - Pos_y[2])**2)\n",
        "  #Distances.append(Distance_BC)\n",
        "\n",
        "  return Distance_AB, Distance_AC, Distance_BC"
      ],
      "metadata": {
        "id": "ho3zQVOSflEz"
      },
      "execution_count": null,
      "outputs": []
    },
    {
      "cell_type": "code",
      "source": [
        "##### I need to cross-reference this with Pfleiderer (1963)#####\n",
        "\n",
        "def Calculate_Acceleration(G, M_A, M_B, M_C, Dist, Pos):\n",
        "\n",
        "  Accels = []\n",
        "\n",
        "  # Calculates the acceleration of the Body 1 based on the masses and positions of Body 2 and Ring Particle\n",
        "  Accel_A = (G*M_B*(Pos[0]-Pos[1])/Dist[0]**3) #+(G*M_C*(Pos[0]-Pos[2])/Dist[1]**3)\n",
        "  Accels.append(Accel_A)\n",
        "\n",
        "  # Calculates the acceleration of Body 2 based on the masses and positions of Body1 and Ring Particle\n",
        "  Accel_B = (G*M_A*(Pos[1]-Pos[0])/Dist[0]**3) #+(G*M_C*(Pos[1]-Pos[2])/Dist[2]**3)\n",
        "  Accels.append(Accel_B)\n",
        "\n",
        "  # Calculates the acceleration of Ring Particle based on the masses and positions of Body1 and Body2\n",
        "  Accel_C = (G*M_A*(Pos[2]-Pos[0])/Dist[1]**3)+(G*M_B*(Pos[2]-Pos[1])/Dist[2]**3)\n",
        "  Accels.append(Accel_C)\n",
        "  #print(Accel_A, Accel_B, Accel_C)\n",
        "\n",
        "  return Accels"
      ],
      "metadata": {
        "id": "Y13_v-mHhtrW"
      },
      "execution_count": null,
      "outputs": []
    },
    {
      "cell_type": "code",
      "source": [
        "####################################################################################################\n",
        "#                                                                                                  #\n",
        "# BORROWED FROM https://github.com/EnguerranVidal/Galaxy-Collision/blob/main/__galaxycollision.py  #\n",
        "# UNTIL I CAN CHANGE IT TO WORK WITH MY CODE                                                       #\n",
        "# (Just here for reference for now)                                                                #\n",
        "#                                                                                                  #\n",
        "####################################################################################################\n",
        "\n",
        "def compute_Runge_Kutta(self, dt):\n",
        "        # Calculating new positions\n",
        "        k1_X = self.massless_V * dt  # K1\n",
        "        k1_Xc = self.center_V * dt\n",
        "        k1_V = self.massless_acceleration(self.massless_X, self.center_X) * dt\n",
        "        k1_Vc = self.centers_acceleration(self.center_X, self.center_V) * dt\n",
        "        k2_X = (self.massless_V + k1_V / 2) * dt  # K2\n",
        "        k2_Xc = (self.center_V + k1_Vc / 2) * dt\n",
        "        k2_V = self.massless_acceleration(self.massless_X + k1_X / 2, self.center_X + k1_Xc / 2) * dt\n",
        "        k2_Vc = self.centers_acceleration(self.center_X + k1_Xc / 2, self.center_V + k1_Vc / 2) * dt\n",
        "        k3_X = (self.massless_V + k2_V / 2) * dt  # K3\n",
        "        k3_Xc = (self.center_V + k2_Vc / 2) * dt\n",
        "        k3_V = self.massless_acceleration(self.massless_X + k2_X / 2, self.center_X + k2_Xc / 2) * dt\n",
        "        k3_Vc = self.centers_acceleration(self.center_X + k2_Xc / 2, self.center_V + k2_Vc / 2) * dt\n",
        "        k4_X = (self.massless_V + k3_V) * dt  # K4\n",
        "        k4_Xc = (self.center_V + k3_Vc) * dt\n",
        "        k4_V = self.massless_acceleration(self.massless_X + k3_X, self.center_X + k3_Xc) * dt\n",
        "        k4_Vc = self.centers_acceleration(self.center_X + k3_Xc, self.center_V + k3_Vc) * dt\n",
        "        # Updating positions\n",
        "        new_X = self.massless_X + (k1_X + 2 * k2_X + 2 * k3_X + k4_X) / 6\n",
        "        new_Xc = self.center_X + (k1_Xc + 2 * k2_Xc + 2 * k3_Xc + k4_Xc) / 6\n",
        "        new_V = self.massless_V + (k1_V + 2 * k2_V + 2 * k3_V + k4_V) / 6\n",
        "        new_Vc = self.center_V + (k1_Vc + 2 * k2_Vc + 2 * k3_Vc + k4_Vc) / 6\n",
        "        self.massless_X = new_X\n",
        "        self.massless_V = new_V\n",
        "        self.center_X = new_Xc\n",
        "        self.center_V = new_Vc"
      ],
      "metadata": {
        "id": "1hZukR40epSk"
      },
      "execution_count": null,
      "outputs": []
    }
  ]
}